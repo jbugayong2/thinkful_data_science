{
 "cells": [
  {
   "cell_type": "code",
   "execution_count": 2,
   "metadata": {
    "collapsed": true
   },
   "outputs": [],
   "source": [
    "import numpy as np\n",
    "import pandas as pd\n",
    "import matplotlib.pyplot as plt\n",
    "\n",
    "%matplotlib inline"
   ]
  },
  {
   "cell_type": "code",
   "execution_count": 3,
   "metadata": {
    "collapsed": true
   },
   "outputs": [],
   "source": [
    "# distributionvar = np.random.distributionname([arguments], 100)"
   ]
  },
  {
   "cell_type": "code",
   "execution_count": 17,
   "metadata": {},
   "outputs": [
    {
     "data": {
      "text/plain": [
       "array([  4.00668986e-01,   1.88548558e-02,   1.57196008e-01,\n",
       "         3.57847233e-01,   4.92700384e-01,   1.12108803e-02,\n",
       "         2.79859625e+00,   3.35596519e-01,   5.74813216e-01,\n",
       "         4.68583990e-01,   5.84993415e+00,   1.52422356e+00,\n",
       "         7.85449023e-03,   5.35909102e-02,   3.85169663e-01,\n",
       "         6.13271495e-02,   1.81949488e-01,   3.67083948e-01,\n",
       "         1.43583585e-01,   1.70218645e-05,   2.36065385e-01,\n",
       "         3.69186432e-02,   1.22747136e+00,   1.60493664e-01,\n",
       "         2.85554279e-01,   2.82151233e+00,   6.46195469e-01,\n",
       "         3.13212418e-02,   2.66692703e-02,   1.65379916e+00,\n",
       "         7.25116304e-01,   1.55117165e-02,   6.87040911e-03,\n",
       "         3.83586332e+00,   1.75345948e-01,   1.16510937e+00,\n",
       "         7.03137740e-01,   1.36490158e+00,   5.22034423e+00,\n",
       "         2.40847803e+00,   9.07753852e-01,   4.49046495e-01,\n",
       "         1.40987673e-02,   1.09149831e-02,   8.43815519e-01,\n",
       "         4.28490553e-01,   9.56024517e-03,   3.16022716e-01,\n",
       "         1.05210266e+00,   1.49910313e+00,   6.56125901e-02,\n",
       "         1.04203239e-01,   4.20668018e-01,   5.15851045e-01,\n",
       "         4.01464975e-01,   1.27183875e-01,   6.85290693e-03,\n",
       "         1.35520504e+00,   1.54248799e-03,   1.17426329e+00,\n",
       "         4.29513882e-01,   7.56477200e-01,   1.83168078e-01,\n",
       "         6.57901373e-01,   5.20825449e-05,   6.50706110e-01,\n",
       "         1.49083939e-01,   8.46519388e-01,   7.91890779e-03,\n",
       "         1.54196405e-02,   1.88727490e+00,   3.97889151e-01,\n",
       "         1.04143046e+00,   8.75916929e-01,   5.59665659e-01,\n",
       "         1.49246349e+00,   4.05043778e-01,   2.83679658e-01,\n",
       "         1.40445844e-01,   1.81327673e+00,   2.56948702e+00,\n",
       "         9.66723664e-01,   2.41316708e-02,   1.60772652e-01,\n",
       "         6.82470321e-02,   8.00704179e-01,   1.47503415e+00,\n",
       "         8.25543456e-02,   2.43518093e+00,   4.06172060e-03,\n",
       "         2.70250930e-01,   1.88923351e+00,   1.48615534e+00,\n",
       "         1.25612117e+00,   1.24430394e-01,   3.07373366e-01,\n",
       "         6.69467006e-01,   1.00195298e+00,   2.49326964e+00,\n",
       "         1.44395414e+00])"
      ]
     },
     "execution_count": 17,
     "metadata": {},
     "output_type": "execute_result"
    }
   ],
   "source": [
    "# Distribution 1 - Chi Square\n",
    "# chisquare(df[, size])\n",
    "\n",
    "mean, size = 1, 100\n",
    "chisquare_distribution = np.random.chisquare(mean,size)\n",
    "chisquare_distribution"
   ]
  },
  {
   "cell_type": "code",
   "execution_count": 36,
   "metadata": {},
   "outputs": [
    {
     "data": {
      "text/plain": [
       "<matplotlib.lines.Line2D at 0x1a00fc9f9e8>"
      ]
     },
     "execution_count": 36,
     "metadata": {},
     "output_type": "execute_result"
    },
    {
     "data": {
      "image/png": "[encoded data removed]",
      "text/plain": [
       "<matplotlib.figure.Figure at 0x1a00ff343c8>"
      ]
     },
     "metadata": {},
     "output_type": "display_data"
    }
   ],
   "source": [
    "plt.hist(chisquare_distribution)\n",
    "plt.ylabel(\"Frequency\")\n",
    "plt.ylim(0,100)\n",
    "plt.xlabel(\"Chi Square Random Numbers\")\n",
    "plt.axvline(chisquare_distribution.mean(),color=\"black\")\n",
    "plt.axvline(chisquare_distribution.mean()-chisquare_distribution.std(),color=\"black\",linestyle=\"dashed\")\n",
    "plt.axvline(chisquare_distribution.mean()+chisquare_distribution.std(),color=\"black\",linestyle=\"dashed\")"
   ]
  },
  {
   "cell_type": "markdown",
   "metadata": {},
   "source": [
    "# Descriptive statistics is not useful in this type of distribution. Although Mode is not explicitly drawn in the graph, the Mean and the Mode are not aligned. "
   ]
  },
  {
   "cell_type": "code",
   "execution_count": 19,
   "metadata": {},
   "outputs": [
    {
     "data": {
      "text/plain": [
       "array([ 0.21141528,  1.99735452,  2.75204931,  0.90270132,  0.73849736,\n",
       "        0.05517616,  2.41080411,  1.27630703,  0.49030452,  3.09672076,\n",
       "        0.35815883,  1.25355308,  0.8380351 ,  0.0393213 ,  0.51762156,\n",
       "        0.27381394,  2.93928126,  0.12658599,  1.34900814,  1.88639003,\n",
       "        1.23931877,  1.58356417,  2.6590007 ,  0.06962429,  0.30075337,\n",
       "        1.1230301 ,  0.85397402,  0.95860191,  0.64997686,  1.01360349,\n",
       "        0.84752034,  1.47827064,  1.28082309,  0.50035793,  2.11814646,\n",
       "        0.35271204,  0.36561545,  0.91778252,  2.74488411,  0.47966578,\n",
       "        0.69248395,  0.78455758,  0.08688614,  0.28722368,  0.55855778,\n",
       "        1.48488496,  0.16060832,  0.02333488,  0.54214757,  0.1710414 ,\n",
       "        0.36536118,  0.35863522,  0.46808586,  0.04179331,  0.86665925,\n",
       "        0.34380563,  2.16642824,  0.3980373 ,  0.99658443,  0.64300044,\n",
       "        0.44215779,  1.33947195,  2.05885433,  0.58981393,  0.48977454,\n",
       "        0.39265721,  0.21467899,  0.29205581,  0.33439008,  1.96613805,\n",
       "        1.42972815,  1.22858807,  0.53174712,  2.07301761,  0.51055366,\n",
       "        0.54165464,  0.38591764,  0.5567404 ,  1.69105125,  2.64784813,\n",
       "        0.18125944,  0.2085695 ,  1.19403345,  0.12782742,  0.12153393,\n",
       "        0.71081446,  1.33773012,  1.05290264,  0.73694643,  0.16668558,\n",
       "        0.34880563,  0.72637526,  3.78551616,  0.03486247,  0.19032572,\n",
       "        1.08917999,  0.06021477,  1.40358997,  1.05706224,  2.55498029])"
      ]
     },
     "execution_count": 19,
     "metadata": {},
     "output_type": "execute_result"
    }
   ],
   "source": [
    "# Distribution 2 - Exponential\n",
    "# exponential([scale, size])\n",
    "\n",
    "scale, size = 1, 100\n",
    "exponential_distribution = np.random.exponential(scale,size)\n",
    "exponential_distribution"
   ]
  },
  {
   "cell_type": "code",
   "execution_count": 35,
   "metadata": {},
   "outputs": [
    {
     "data": {
      "text/plain": [
       "<matplotlib.lines.Line2D at 0x1a00ff2c080>"
      ]
     },
     "execution_count": 35,
     "metadata": {},
     "output_type": "execute_result"
    },
    {
     "data": {
      "image/png": "[encoded data removed]",
      "text/plain": [
       "<matplotlib.figure.Figure at 0x1a00fe7f080>"
      ]
     },
     "metadata": {},
     "output_type": "display_data"
    }
   ],
   "source": [
    "plt.hist(exponential_distribution,color=\"green\")\n",
    "plt.ylabel(\"Frequency\")\n",
    "plt.ylim(0,100)\n",
    "plt.xlabel(\"Exponential Random Numbers\")\n",
    "plt.axvline(exponential_distribution.mean(),color=\"black\")\n",
    "plt.axvline(exponential_distribution.mean()-exponential_distribution.std(),color=\"black\",linestyle=\"dashed\")\n",
    "plt.axvline(exponential_distribution.mean()+exponential_distribution.std(),color=\"black\",linestyle=\"dashed\")"
   ]
  },
  {
   "cell_type": "markdown",
   "metadata": {},
   "source": [
    "# Descriptive statistics is also not useful in this type of distribution for the same reason. "
   ]
  },
  {
   "cell_type": "code",
   "execution_count": 22,
   "metadata": {},
   "outputs": [
    {
     "data": {
      "text/plain": [
       "array([ 11.07836566,  10.19074232,  14.72810455,  13.38116878,\n",
       "        11.80206715,   9.67154733,  11.43900134,   9.6997493 ,\n",
       "        12.39510346,  10.38179525,   8.59354193,   9.19823095,\n",
       "        16.19732237,   9.02622353,  11.28518076,   9.85339875,\n",
       "        10.99674501,   9.44363297,   3.82452252,  10.77840397,\n",
       "         9.38694022,  10.23211707,  10.87224083,   9.12030311,\n",
       "        11.67938801,   8.02553432,   8.27888784,  10.23558072,\n",
       "         9.75610686,   9.38276316,   9.57478377,   9.18233083,\n",
       "         7.80245656,   8.66125812,   9.0605481 ,   9.80581404,\n",
       "         9.82029306,  11.15658233,  11.9250859 ,  10.47331308,\n",
       "         9.52316782,   7.68615266,   4.63433438,   6.91923179,\n",
       "        10.34896764,   7.51546214,  10.53331378,   9.36364031,\n",
       "        10.62060943,  11.90258786,   8.6370266 ,   8.18057311,\n",
       "        10.99221568,  11.54766083,   9.85868542,   9.82297449,\n",
       "         6.0790259 ,   9.6224122 ,  11.63684136,   7.235304  ,\n",
       "        11.16809769,  10.72255429,   9.69233569,   9.39391993,\n",
       "        10.58353252,   9.53947776,  10.06995419,  10.60469039,\n",
       "        14.93813846,   7.42624228,   8.30771433,   9.25659319,\n",
       "         8.37749226,   9.51123437,  11.75938015,   9.96423155,\n",
       "        10.08611615,  10.5036419 ,  11.13175832,  11.49847066,\n",
       "        11.19667014,  11.51602709,   9.44478371,   9.37279576,\n",
       "         9.56174004,  10.86182405,   9.21080461,  10.80095751,\n",
       "        10.95087249,  13.34790859,  10.20492529,   9.10492298,\n",
       "        11.15933454,  10.71548273,  10.43812469,   8.6920006 ,\n",
       "         6.07632439,  11.74033401,  11.01451916,   8.35778575])"
      ]
     },
     "execution_count": 22,
     "metadata": {},
     "output_type": "execute_result"
    }
   ],
   "source": [
    "# Distribution 3 - Logistic\n",
    "# logistic([loc, scale, size])\n",
    "\n",
    "loc, scale, size = 10, 1, 100\n",
    "logistic_distribution = np.random.logistic(loc,scale,size)\n",
    "logistic_distribution"
   ]
  },
  {
   "cell_type": "code",
   "execution_count": 34,
   "metadata": {},
   "outputs": [
    {
     "data": {
      "text/plain": [
       "<matplotlib.lines.Line2D at 0x1a00feab780>"
      ]
     },
     "execution_count": 34,
     "metadata": {},
     "output_type": "execute_result"
    },
    {
     "data": {
      "image/png": "[encoded data removed]",
      "text/plain": [
       "<matplotlib.figure.Figure at 0x1a00fe43550>"
      ]
     },
     "metadata": {},
     "output_type": "display_data"
    }
   ],
   "source": [
    "plt.hist(logistic_distribution,color=\"red\")\n",
    "plt.ylabel(\"Frequency\")\n",
    "plt.ylim(0,100)\n",
    "plt.xlabel(\"Logistic Random Numbers\")\n",
    "plt.axvline(logistic_distribution.mean(),color=\"black\")\n",
    "plt.axvline(logistic_distribution.mean()-logistic_distribution.std(),color=\"black\",linestyle=\"dashed\")\n",
    "plt.axvline(logistic_distribution.mean()+logistic_distribution.std(),color=\"black\",linestyle=\"dashed\")"
   ]
  },
  {
   "cell_type": "markdown",
   "metadata": {},
   "source": [
    "# Descriptive statistics is valid in this distribution. There is symmetry along the mean. Although Mode is not explicitly drawn in the graph, the Mean and the Mode are aligned. The Median is also likely close to the Mean."
   ]
  },
  {
   "cell_type": "code",
   "execution_count": 24,
   "metadata": {},
   "outputs": [
    {
     "data": {
      "text/plain": [
       "array([  9.88864764e-03,   7.93530176e+00,   1.59859263e+00,\n",
       "         1.21268260e-01,   5.30893440e+00,   5.31205576e+00,\n",
       "         8.85123383e-01,   4.82431087e-01,   8.81892215e-01,\n",
       "         2.09690605e-02,   1.93186329e+00,   1.29077916e-01,\n",
       "         3.28685440e-01,   1.68786779e-01,   1.33341354e-01,\n",
       "         1.31691080e-02,   3.66332053e-01,   5.89544281e-01,\n",
       "         4.62085209e-01,   2.26408350e-02,   2.13984336e-02,\n",
       "         1.24006899e-01,   2.09433609e+00,   1.73555821e+00,\n",
       "         1.63689034e+00,   5.39328046e-02,   1.30346645e-01,\n",
       "         5.07306283e-02,   7.09421888e-02,   1.42262380e-01,\n",
       "         3.88556541e-01,   1.12586381e+00,   3.50543146e+01,\n",
       "         7.05644075e-01,   7.73514018e-01,   3.63891057e-01,\n",
       "         5.60836286e+00,   5.08839879e-01,   2.72672932e+00,\n",
       "         1.21418236e-02,   6.61062141e-01,   4.37367075e-01,\n",
       "         5.51245153e-01,   3.14477345e+00,   2.12679405e-01,\n",
       "         8.83958254e-01,   4.50869130e+00,   1.38722797e+00,\n",
       "         3.37691022e-01,   9.96473256e-03,   9.80374223e-02,\n",
       "         2.97293115e-01,   7.01101696e-01,   1.16153260e+00,\n",
       "         1.21259132e-01,   1.02999875e+01,   1.39592306e-02,\n",
       "         2.20553781e-01,   2.32573578e+00,   1.43748666e+00,\n",
       "         2.17114757e-01,   8.26396563e-01,   3.24517483e-01,\n",
       "         1.30005842e-01,   8.51537354e-01,   4.05500556e-01,\n",
       "         2.53992500e+00,   3.41914892e-02,   2.79066906e-01,\n",
       "         1.90832265e+00,   9.82919760e-02,   1.51446308e-01,\n",
       "         1.03126553e+00,   1.91608415e-01,   5.12632805e-01,\n",
       "         1.63970265e+00,   2.00271216e-01,   4.62193351e-03,\n",
       "         1.88374393e+00,   5.29195497e-01,   4.15933246e-01,\n",
       "         8.70806510e-01,   6.08326572e-02,   6.52052669e-01,\n",
       "         2.48757118e-01,   3.23011554e-01,   3.63813044e-02,\n",
       "         3.52339227e-02,   7.59429109e-01,   3.63425362e-01,\n",
       "         5.22979635e-02,   4.81007339e+00,   7.03357978e-01,\n",
       "         2.21783809e-02,   1.63191827e+00,   7.32858924e-01,\n",
       "         3.24699907e+00,   5.64328613e+00,   8.55138347e-02,\n",
       "         4.16252461e+00])"
      ]
     },
     "execution_count": 24,
     "metadata": {},
     "output_type": "execute_result"
    }
   ],
   "source": [
    "# Distribution 4 - F\n",
    "# f(dfnum, dfden[, size])\n",
    "\n",
    "#dfnum stands for degrees of freedom in numerator, must be greater than zero.\n",
    "#dfden stands for degrees of freedom in denominator, must be greater than zero.\n",
    "\n",
    "dfnum, dfden, size = 1, 5, 100\n",
    "f_distribution = np.random.f(dfnum,dfden,size)\n",
    "f_distribution"
   ]
  },
  {
   "cell_type": "code",
   "execution_count": 33,
   "metadata": {},
   "outputs": [
    {
     "data": {
      "text/plain": [
       "<matplotlib.lines.Line2D at 0x1a00fe2e908>"
      ]
     },
     "execution_count": 33,
     "metadata": {},
     "output_type": "execute_result"
    },
    {
     "data": {
      "image/png": "[encoded data removed]",
      "text/plain": [
       "<matplotlib.figure.Figure at 0x1a00fdc79b0>"
      ]
     },
     "metadata": {},
     "output_type": "display_data"
    }
   ],
   "source": [
    "plt.hist(f_distribution,color=\"gray\")\n",
    "plt.ylabel(\"Frequency\")\n",
    "plt.ylim(0,100)\n",
    "plt.xlabel(\"F Random Numbers\")\n",
    "plt.axvline(f_distribution.mean(),color=\"black\")\n",
    "plt.axvline(f_distribution.mean()-f_distribution.std(),color=\"black\",linestyle=\"dashed\")\n",
    "plt.axvline(f_distribution.mean()+f_distribution.std(),color=\"black\",linestyle=\"dashed\")"
   ]
  },
  {
   "cell_type": "markdown",
   "metadata": {},
   "source": [
    "# Descriptive statistics is again not useful here. The graph lacks symmetry."
   ]
  },
  {
   "cell_type": "code",
   "execution_count": 26,
   "metadata": {},
   "outputs": [
    {
     "data": {
      "text/plain": [
       "array([  4.07937324,   7.16554238,   6.8574644 ,   2.03528546,\n",
       "         3.55609074,   4.13345738,   5.34464334,   8.38153337,\n",
       "         4.34132781,   4.35718349,   3.5415612 ,   5.27250407,\n",
       "         9.88292308,   8.13775259,   2.07464993,   3.79150238,\n",
       "         5.11803148,   6.56369356,   4.80023592,   3.64512968,\n",
       "         1.08576457,   4.32181708,   4.96131779,   4.84285706,\n",
       "        -1.41072859,   9.45598678,   3.78264705,   0.33330525,\n",
       "         3.92923654,   7.30717317,   4.06153514,   5.72043699,\n",
       "         4.39182012,   9.12594967,   5.49860535,  -3.2446927 ,\n",
       "         2.47828402,   6.50347087,   8.13259334,   7.0718283 ,\n",
       "         3.40417012,   4.06519945,   6.20426347,   5.08461249,\n",
       "         5.9369139 ,   7.47128505,  10.8417984 ,   8.29487515,\n",
       "         0.1873914 ,   5.77201697,   4.61249616,   3.74983885,\n",
       "         4.62018108,   7.80592706,   4.26481827,   3.38077737,\n",
       "         4.87107224,   5.25186553,   2.48445885,   3.61858999,\n",
       "         8.49110609,   5.96168809,   7.26576552,  11.14045818,\n",
       "         5.56169395,  10.5150522 ,   6.32611902,   4.08951762,\n",
       "         4.8626329 ,   0.80458239,  -0.34625746,  11.82018749,\n",
       "         3.18440111,   4.37891272,   4.95965445,   4.32356288,\n",
       "         5.71539352,   3.45744699,   0.02666602,   5.71367118,\n",
       "         4.18515856,   7.62634783,   6.51839542,   4.92678826,\n",
       "         3.37811138,   4.01430166,   5.95506124,   2.86192685,\n",
       "         2.01394915,   5.87183229,   8.75421979,   6.72833093,\n",
       "         3.96833216,   5.22831177,  10.24342409,   5.53264648,\n",
       "         2.87972064,   4.9602115 ,   6.32599607,   4.95221021])"
      ]
     },
     "execution_count": 26,
     "metadata": {},
     "output_type": "execute_result"
    }
   ],
   "source": [
    "# Distribution 5 - Laplace\n",
    "# laplace([loc, scale, size])\n",
    "\n",
    "loc, scale, size = 5, 2, 100\n",
    "laplace_distribution = np.random.laplace(loc,scale,size)\n",
    "laplace_distribution"
   ]
  },
  {
   "cell_type": "code",
   "execution_count": 32,
   "metadata": {},
   "outputs": [
    {
     "data": {
      "text/plain": [
       "<matplotlib.lines.Line2D at 0x1a00fdafb70>"
      ]
     },
     "execution_count": 32,
     "metadata": {},
     "output_type": "execute_result"
    },
    {
     "data": {
      "image/png": "[encoded data removed]",
      "text/plain": [
       "<matplotlib.figure.Figure at 0x1a00fd48ba8>"
      ]
     },
     "metadata": {},
     "output_type": "display_data"
    }
   ],
   "source": [
    "plt.hist(laplace_distribution,color=\"purple\")\n",
    "plt.ylabel(\"Frequency\")\n",
    "plt.ylim(0,100)\n",
    "plt.xlabel(\"Laplace Random Numbers\")\n",
    "plt.axvline(laplace_distribution.mean(),color=\"black\")\n",
    "plt.axvline(laplace_distribution.mean()-laplace_distribution.std(),color=\"black\",linestyle=\"dashed\")\n",
    "plt.axvline(laplace_distribution.mean()+laplace_distribution.std(),color=\"black\",linestyle=\"dashed\")"
   ]
  },
  {
   "cell_type": "markdown",
   "metadata": {},
   "source": [
    "# Descriptive statistics can be a good estimate here. Mode and Mean align. However, the symmetry is a little skewed."
   ]
  },
  {
   "cell_type": "code",
   "execution_count": 28,
   "metadata": {},
   "outputs": [
    {
     "data": {
      "text/plain": [
       "array([  4.12841008e-01,   3.38892653e-03,   6.69762720e-01,\n",
       "         6.61380368e-02,   1.97835071e-02,   1.26384798e-01,\n",
       "         7.24829713e-01,   1.06697844e-02,   7.95159747e-02,\n",
       "         6.42519974e-01,   1.05534435e-02,   9.75287801e-02,\n",
       "         2.63961805e+00,   7.58791301e-03,   3.52304320e-02,\n",
       "         1.19603003e+00,   2.49535286e-01,   9.32675690e-01,\n",
       "         2.26304854e-01,   3.03782130e-01,   1.28106349e-01,\n",
       "         2.29430379e-01,   3.63230512e-02,   5.29432298e+00,\n",
       "         4.55167815e-02,   1.10978842e-01,   1.45884832e+00,\n",
       "         7.66826417e-01,   6.07849250e-02,   5.15247592e-02,\n",
       "         7.88763409e-01,   4.90883230e-01,   6.68937254e-03,\n",
       "         1.14370446e+00,   1.70427011e-01,   6.58463705e+00,\n",
       "         1.93039529e-01,   3.35027985e-02,   2.12856815e-01,\n",
       "         1.13427619e-01,   1.22263132e-01,   3.40657994e-01,\n",
       "         3.78443803e-01,   4.65114284e-01,   2.00364693e-01,\n",
       "         1.17371209e-01,   2.41179011e-01,   1.09505659e+00,\n",
       "         8.27865379e-01,   4.17988874e-01,   2.43663055e-02,\n",
       "         5.01283681e-01,   2.86025606e-02,   3.25076280e-01,\n",
       "         3.59467328e-01,   8.00961851e-02,   6.56320468e-01,\n",
       "         1.36725212e+00,   7.44018182e-01,   1.65483462e-01,\n",
       "         1.94254459e-01,   3.48530196e-01,   3.12522930e-01,\n",
       "         4.84062006e-01,   3.27385925e-01,   7.50939337e-01,\n",
       "         2.86164950e-01,   2.44775959e-02,   6.80847421e-01,\n",
       "         5.61257185e-02,   1.89201043e-02,   1.60892164e-01,\n",
       "         9.81477666e-02,   1.05233105e+00,   3.82268308e-01,\n",
       "         2.99861415e+00,   6.41562734e-01,   6.29427476e-01,\n",
       "         2.19564750e-01,   3.65000338e-02,   1.74434712e+00,\n",
       "         5.87524832e-01,   3.37401037e-01,   1.58746411e-01,\n",
       "         3.98463080e-01,   1.94742257e-01,   3.10283488e-01,\n",
       "         1.97351585e-01,   5.15195664e-02,   1.14557100e-01,\n",
       "         1.04961998e-01,   7.05236140e-01,   1.97184575e-01,\n",
       "         5.44648184e-01,   7.25603349e-02,   2.44306440e-01,\n",
       "         1.38337667e+00,   2.48849586e-01,   8.72283664e-02,\n",
       "         2.43632842e-01])"
      ]
     },
     "execution_count": 28,
     "metadata": {},
     "output_type": "execute_result"
    }
   ],
   "source": [
    "# Distribution 6 - Pareto\n",
    "# pareto(a[, size])\n",
    "# \"a\" is shape of the distribution and should be greater than zero.\n",
    "\n",
    "a, size = 3, 100\n",
    "pareto_distribution = np.random.pareto(a,size)\n",
    "pareto_distribution"
   ]
  },
  {
   "cell_type": "code",
   "execution_count": 31,
   "metadata": {},
   "outputs": [
    {
     "data": {
      "text/plain": [
       "<matplotlib.lines.Line2D at 0x1a00fd38438>"
      ]
     },
     "execution_count": 31,
     "metadata": {},
     "output_type": "execute_result"
    },
    {
     "data": {
      "image/png": "[encoded data removed]",
      "text/plain": [
       "<matplotlib.figure.Figure at 0x1a00fc97f98>"
      ]
     },
     "metadata": {},
     "output_type": "display_data"
    }
   ],
   "source": [
    "plt.hist(pareto_distribution,color=\"orange\")\n",
    "plt.ylabel(\"Frequency\")\n",
    "plt.ylim(0,100)\n",
    "plt.xlabel(\"Pareto Random Numbers\")\n",
    "plt.axvline(pareto_distribution.mean(),color=\"black\")\n",
    "plt.axvline(pareto_distribution.mean()-pareto_distribution.std(),color=\"black\",linestyle=\"dashed\")\n",
    "plt.axvline(pareto_distribution.mean()+pareto_distribution.std(),color=\"black\",linestyle=\"dashed\")"
   ]
  },
  {
   "cell_type": "markdown",
   "metadata": {},
   "source": [
    "# Descriptive statistics is not applicable here."
   ]
  },
  {
   "cell_type": "markdown",
   "metadata": {},
   "source": [
    "# Over-all, descriptive statistics provide helpful information in distributions that are symmetric about the x-axis, by the Mean. It does not have to be perfectly symmetrical, but can be close and still attain a valid approximation.  "
   ]
  },
  {
   "cell_type": "code",
   "execution_count": 40,
   "metadata": {},
   "outputs": [],
   "source": [
    "# Create two random distributions and make a third, a sum of the two\n",
    "# Then create a histogram\n",
    "\n",
    "np.random.seed(132)"
   ]
  },
  {
   "cell_type": "code",
   "execution_count": 41,
   "metadata": {},
   "outputs": [
    {
     "data": {
      "text/plain": [
       "array([ 4.72604924,  5.64745731,  5.24716617,  5.2883673 ,  4.72753759,\n",
       "        5.57424807,  4.94637342,  5.17238449,  4.59522952,  5.05408158,\n",
       "        4.95460808,  5.23035028,  4.79700991,  4.00435499,  4.82572972,\n",
       "        5.44038901,  4.68166039,  4.69663535,  4.6222206 ,  4.65742637,\n",
       "        4.59130445,  4.43258956,  4.58641655,  5.03632429,  5.06168104,\n",
       "        5.24713784,  4.47896793,  5.34567928,  4.26544322,  5.02788784,\n",
       "        4.64832548,  4.88057833,  5.99748702,  5.07666004,  5.14457659,\n",
       "        4.58602795,  4.97494996,  4.99352554,  4.61771975,  5.13757227,\n",
       "        5.24495923,  4.57723743,  5.40077097,  4.7384268 ,  5.62432727,\n",
       "        4.87169258,  5.26500073,  4.74747115,  4.9107579 ,  4.6202177 ,\n",
       "        4.9705569 ,  4.92711431,  4.82488191,  4.93430319,  5.02629328,\n",
       "        5.17110337,  5.24173202,  5.15859473,  4.70554854,  5.41984985,\n",
       "        4.86242952,  5.31973246,  4.95644283,  5.36917369,  4.31480198,\n",
       "        5.1684085 ,  4.79751061,  5.32565302,  3.69532441,  6.00528516,\n",
       "        4.01234962,  5.05942221,  5.20272336,  5.63604112,  4.89965048,\n",
       "        4.58623747,  5.10996779,  4.6753357 ,  4.53857327,  4.80271948,\n",
       "        5.53651112,  4.57109891,  4.72324447,  5.12877606,  5.0149583 ,\n",
       "        5.64956552,  4.00467802,  5.19886191,  4.98372765,  4.60118111,\n",
       "        5.4960351 ,  4.57962424,  5.06367725,  5.7557673 ,  4.88556656,\n",
       "        5.48137058,  4.31698583,  5.91568039,  4.86055736,  5.41447134])"
      ]
     },
     "execution_count": 41,
     "metadata": {},
     "output_type": "execute_result"
    }
   ],
   "source": [
    "random_distribution_a = np.random.normal(5, 0.5, 100)\n",
    "random_distribution_a"
   ]
  },
  {
   "cell_type": "code",
   "execution_count": 42,
   "metadata": {},
   "outputs": [
    {
     "data": {
      "text/plain": [
       "array([  9.66602028,   8.89898475,   9.16662136,  10.14141122,\n",
       "        11.43043516,  10.49305753,   9.53022658,  10.25524082,\n",
       "         9.93635643,   9.28535446,  10.49841374,  10.38333539,\n",
       "        11.33665444,   9.25440632,  10.98966153,   8.82155617,\n",
       "         9.65966343,  10.56301453,  10.66390264,  11.18710593,\n",
       "        11.69083423,  11.38695734,   9.55466503,  12.10668304,\n",
       "         9.53073009,   8.55563435,   9.9808855 ,  11.03092548,\n",
       "        11.66601644,   9.05697088,   8.87291331,  11.39699865,\n",
       "         8.85644163,  10.78763465,  11.28337507,   9.7539591 ,\n",
       "        10.55952168,   8.32808172,   6.958542  ,   9.81456982,\n",
       "         9.11353453,  11.07651006,   9.20800873,  10.56057528,\n",
       "         9.62971972,  10.63474281,  10.35538836,  10.53193218,\n",
       "        10.28585671,  10.35647267,   9.76921313,  11.07392546,\n",
       "         9.87446735,   9.83521937,   9.62445058,   9.75346901,\n",
       "         8.49882169,  10.7399858 ,   9.8289905 ,  10.43290954,\n",
       "        10.15211133,  10.05927545,   9.35048693,  11.3715103 ,\n",
       "        11.25993415,  11.1830763 ,   9.27110268,  10.28693607,\n",
       "         9.95030875,   9.98268622,   9.62550785,   9.60461335,\n",
       "        12.00692985,  11.44124078,   8.61285635,  11.3275443 ,\n",
       "        11.32353337,  10.68916112,  10.49510658,  11.41946242,\n",
       "        10.87693499,  10.87270813,  11.42968384,  10.51574409,\n",
       "         8.41444121,  10.53803064,  10.11667132,  10.2185401 ,\n",
       "        11.153492  ,  10.68067512,  10.02816722,   9.25989297,\n",
       "         9.76251331,  11.69896619,  11.90245916,  10.15994456,\n",
       "        11.49969403,  11.3176385 ,  10.66868006,   9.84451121])"
      ]
     },
     "execution_count": 42,
     "metadata": {},
     "output_type": "execute_result"
    }
   ],
   "source": [
    "random_distribution_b = np.random.normal(10, 1.0, 100)\n",
    "random_distribution_b"
   ]
  },
  {
   "cell_type": "code",
   "execution_count": 52,
   "metadata": {},
   "outputs": [
    {
     "data": {
      "text/plain": [
       "<matplotlib.lines.Line2D at 0x1a0102c21d0>"
      ]
     },
     "execution_count": 52,
     "metadata": {},
     "output_type": "execute_result"
    },
    {
     "data": {
      "image/png": "[encoded data removed]",
      "text/plain": [
       "<matplotlib.figure.Figure at 0x1a01021a710>"
      ]
     },
     "metadata": {},
     "output_type": "display_data"
    }
   ],
   "source": [
    "plt.hist(random_distribution_a)\n",
    "plt.ylabel(\"Frequency\")\n",
    "plt.ylim(0,30)\n",
    "plt.xlabel(\"Normal A Random Numbers\")\n",
    "plt.axvline(random_distribution_a.mean(),color=\"black\")\n",
    "plt.axvline(random_distribution_a.mean()-random_distribution_a.std(),color=\"black\",linestyle=\"dashed\")\n",
    "plt.axvline(random_distribution_a.mean()+random_distribution_a.std(),color=\"black\",linestyle=\"dashed\")"
   ]
  },
  {
   "cell_type": "code",
   "execution_count": 53,
   "metadata": {},
   "outputs": [
    {
     "data": {
      "text/plain": [
       "<matplotlib.lines.Line2D at 0x1a011307588>"
      ]
     },
     "execution_count": 53,
     "metadata": {},
     "output_type": "execute_result"
    },
    {
     "data": {
      "image/png": "[encoded data removed]",
      "text/plain": [
       "<matplotlib.figure.Figure at 0x1a01028a518>"
      ]
     },
     "metadata": {},
     "output_type": "display_data"
    }
   ],
   "source": [
    "plt.hist(random_distribution_b, color=\"red\")\n",
    "plt.ylabel(\"Frequency\")\n",
    "plt.ylim(0,30)\n",
    "plt.xlabel(\"Normal B Random Numbers\")\n",
    "plt.axvline(random_distribution_b.mean(),color=\"black\")\n",
    "plt.axvline(random_distribution_b.mean()-random_distribution_b.std(),color=\"black\",linestyle=\"dashed\")\n",
    "plt.axvline(random_distribution_b.mean()+random_distribution_b.std(),color=\"black\",linestyle=\"dashed\")"
   ]
  },
  {
   "cell_type": "code",
   "execution_count": 49,
   "metadata": {},
   "outputs": [
    {
     "data": {
      "text/plain": [
       "array([ 14.39206952,  14.54644206,  14.41378753,  15.42977852,\n",
       "        16.15797275,  16.0673056 ,  14.4766    ,  15.42762531,\n",
       "        14.53158595,  14.33943604,  15.45302182,  15.61368567,\n",
       "        16.13366436,  13.25876132,  15.81539124,  14.26194518,\n",
       "        14.34132382,  15.25964987,  15.28612324,  15.8445323 ,\n",
       "        16.28213868,  15.8195469 ,  14.14108158,  17.14300733,\n",
       "        14.59241114,  13.80277219,  14.45985343,  16.37660476,\n",
       "        15.93145966,  14.08485872,  13.52123879,  16.27757698,\n",
       "        14.85392865,  15.86429469,  16.42795166,  14.33998705,\n",
       "        15.53447164,  13.32160726,  11.57626175,  14.95214209,\n",
       "        14.35849376,  15.65374749,  14.60877969,  15.29900208,\n",
       "        15.25404699,  15.50643539,  15.62038909,  15.27940333,\n",
       "        15.19661462,  14.97669037,  14.73977003,  16.00103978,\n",
       "        14.69934926,  14.76952256,  14.65074385,  14.92457239,\n",
       "        13.74055371,  15.89858053,  14.53453904,  15.85275939,\n",
       "        15.01454086,  15.37900792,  14.30692976,  16.740684  ,\n",
       "        15.57473614,  16.3514848 ,  14.06861329,  15.61258909,\n",
       "        13.64563316,  15.98797139,  13.63785748,  14.66403556,\n",
       "        17.20965321,  17.0772819 ,  13.51250683,  15.91378177,\n",
       "        16.43350115,  15.36449682,  15.03367984,  16.2221819 ,\n",
       "        16.41344611,  15.44380704,  16.15292831,  15.64452015,\n",
       "        13.42939951,  16.18759616,  14.12134934,  15.41740201,\n",
       "        16.13721964,  15.28185623,  15.52420232,  13.83951721,\n",
       "        14.82619056,  17.45473349,  16.78802572,  15.64131514,\n",
       "        15.81667986,  17.23331889,  15.52923743,  15.25898255])"
      ]
     },
     "execution_count": 49,
     "metadata": {},
     "output_type": "execute_result"
    }
   ],
   "source": [
    "random_distribution_sum = random_distribution_a+random_distribution_b\n",
    "random_distribution_sum"
   ]
  },
  {
   "cell_type": "code",
   "execution_count": 54,
   "metadata": {},
   "outputs": [
    {
     "data": {
      "text/plain": [
       "<matplotlib.lines.Line2D at 0x1a01137cd30>"
      ]
     },
     "execution_count": 54,
     "metadata": {},
     "output_type": "execute_result"
    },
    {
     "data": {
      "image/png": "[encoded data removed]",
      "text/plain": [
       "<matplotlib.figure.Figure at 0x1a011317cf8>"
      ]
     },
     "metadata": {},
     "output_type": "display_data"
    }
   ],
   "source": [
    "plt.hist(random_distribution_sum, color=\"purple\")\n",
    "plt.ylabel(\"Frequency\")\n",
    "plt.ylim(0,30)\n",
    "plt.xlabel(\"Normal Sum Random Numbers\")\n",
    "plt.axvline(random_distribution_sum.mean(),color=\"black\")\n",
    "plt.axvline(random_distribution_sum.mean()-random_distribution_sum.std(),color=\"black\",linestyle=\"dashed\")\n",
    "plt.axvline(random_distribution_sum.mean()+random_distribution_sum.std(),color=\"black\",linestyle=\"dashed\")"
   ]
  },
  {
   "cell_type": "markdown",
   "metadata": {},
   "source": [
    "# I'd say that the sum of the first two random distributions having different means and standard deviations still resulted in a normal distribution. The operation was a simple addition. If the operation had been like random b an exponent of random a, then the descriptive statistics may possibly not apply."
   ]
  }
 ],
 "metadata": {
  "kernelspec": {
   "display_name": "Python 3",
   "language": "python",
   "name": "python3"
  },
  "language_info": {
   "codemirror_mode": {
    "name": "ipython",
    "version": 3
   },
   "file_extension": ".py",
   "mimetype": "text/x-python",
   "name": "python",
   "nbconvert_exporter": "python",
   "pygments_lexer": "ipython3",
   "version": "3.6.3"
  }
 },
 "nbformat": 4,
 "nbformat_minor": 2
}
