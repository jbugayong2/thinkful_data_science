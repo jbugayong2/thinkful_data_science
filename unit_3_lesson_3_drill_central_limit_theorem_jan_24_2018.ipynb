{
 "cells": [
  {
   "cell_type": "code",
   "execution_count": 1,
   "metadata": {
    "collapsed": true
   },
   "outputs": [],
   "source": [
    "import numpy as np\n",
    "import pandas as pd\n",
    "import matplotlib.pyplot as plt\n",
    "import scipy\n",
    "from scipy.stats import ttest_ind\n",
    "\n",
    "%matplotlib inline"
   ]
  },
  {
   "cell_type": "markdown",
   "metadata": {},
   "source": [
    "# Pop1 and Pop2"
   ]
  },
  {
   "cell_type": "code",
   "execution_count": 5,
   "metadata": {},
   "outputs": [],
   "source": [
    "# Create a binomial population distribution with \n",
    "# n=10 repetitions, p1=0.2 and p2=0.5 probabilities, and size = 10,000 counts.\n",
    "\n",
    "np.random.seed(4554)\n",
    "\n",
    "pop1 = np.random.binomial(10, 0.2, 10000)\n",
    "pop2 = np.random.binomial(10,0.5, 10000)"
   ]
  },
  {
   "cell_type": "markdown",
   "metadata": {},
   "source": [
    "# This would result in a similar plot like in the example given in unit 3 lesson 3."
   ]
  },
  {
   "cell_type": "code",
   "execution_count": 6,
   "metadata": {},
   "outputs": [
    {
     "data": {
      "image/png": "[encoded data removed]",
      "text/plain": [
       "<matplotlib.figure.Figure at 0x249da4e4c88>"
      ]
     },
     "metadata": {},
     "output_type": "display_data"
    }
   ],
   "source": [
    "plt.hist(pop1, alpha=0.5, label='Population 1') \n",
    "plt.hist(pop2, alpha=0.5, label='Population 2') \n",
    "plt.legend(loc='upper right') \n",
    "plt.show()"
   ]
  },
  {
   "cell_type": "code",
   "execution_count": 7,
   "metadata": {},
   "outputs": [
    {
     "data": {
      "image/png": "[encoded data removed]",
      "text/plain": [
       "<matplotlib.figure.Figure at 0x249da5e2080>"
      ]
     },
     "metadata": {},
     "output_type": "display_data"
    }
   ],
   "source": [
    "# First set of sampling, 100\n",
    "\n",
    "sample1 = np.random.choice(pop1, 100, replace=True)\n",
    "sample2 = np.random.choice(pop2, 100, replace=True)\n",
    "\n",
    "plt.hist(sample1, alpha=0.5, label='sample 1') \n",
    "plt.hist(sample2, alpha=0.5, label='sample 2') \n",
    "plt.legend(loc='upper right') \n",
    "plt.show()"
   ]
  },
  {
   "cell_type": "code",
   "execution_count": 9,
   "metadata": {},
   "outputs": [
    {
     "name": "stdout",
     "output_type": "stream",
     "text": [
      "1.89\n",
      "5.09\n",
      "1.23203084377\n",
      "1.70349640446\n"
     ]
    }
   ],
   "source": [
    "# Determining the means and standard deviations of the two samples plus the difference of the means\n",
    "\n",
    "print(sample1.mean())\n",
    "print(sample2.mean())\n",
    "print(sample1.std())\n",
    "print(sample2.std())"
   ]
  },
  {
   "cell_type": "code",
   "execution_count": 11,
   "metadata": {},
   "outputs": [
    {
     "name": "stdout",
     "output_type": "stream",
     "text": [
      "Ttest_indResult(statistic=15.144895004550385, pvalue=5.8027274853884883e-34)\n"
     ]
    }
   ],
   "source": [
    "# Determining t-value and p-value using ttest_ind\n",
    "\n",
    "print(ttest_ind(sample2, sample1, equal_var=False))"
   ]
  },
  {
   "cell_type": "code",
   "execution_count": 12,
   "metadata": {},
   "outputs": [
    {
     "data": {
      "image/png": "[encoded data removed]",
      "text/plain": [
       "<matplotlib.figure.Figure at 0x249da5efda0>"
      ]
     },
     "metadata": {},
     "output_type": "display_data"
    }
   ],
   "source": [
    "# Second set of sampling, 1000\n",
    "\n",
    "sample3 = np.random.choice(pop1, 1000, replace=True)\n",
    "sample4 = np.random.choice(pop2, 1000, replace=True)\n",
    "\n",
    "plt.hist(sample3, alpha=0.5, label='sample 3') \n",
    "plt.hist(sample4, alpha=0.5, label='sample 4') \n",
    "plt.legend(loc='upper right') \n",
    "plt.show()"
   ]
  },
  {
   "cell_type": "code",
   "execution_count": 13,
   "metadata": {},
   "outputs": [
    {
     "name": "stdout",
     "output_type": "stream",
     "text": [
      "1.98\n",
      "5.06\n",
      "1.3013838788\n",
      "1.59949992185\n"
     ]
    }
   ],
   "source": [
    "# Determining the means and standard deviations of the two samples plus the difference of the means\n",
    "\n",
    "print(sample3.mean())\n",
    "print(sample4.mean())\n",
    "print(sample3.std())\n",
    "print(sample4.std())"
   ]
  },
  {
   "cell_type": "code",
   "execution_count": 14,
   "metadata": {},
   "outputs": [
    {
     "name": "stdout",
     "output_type": "stream",
     "text": [
      "Ttest_indResult(statistic=47.210307881571921, pvalue=1.9762625833649862e-323)\n"
     ]
    }
   ],
   "source": [
    "# Determining t-value and p-value using ttest_ind\n",
    "\n",
    "print(ttest_ind(sample4, sample3, equal_var=False))"
   ]
  },
  {
   "cell_type": "code",
   "execution_count": 15,
   "metadata": {},
   "outputs": [
    {
     "data": {
      "image/png": "[encoded data removed]",
      "text/plain": [
       "<matplotlib.figure.Figure at 0x249dabd3080>"
      ]
     },
     "metadata": {},
     "output_type": "display_data"
    }
   ],
   "source": [
    "# Third set of sampling, 20\n",
    "\n",
    "sample5 = np.random.choice(pop1, 20, replace=True)\n",
    "sample6 = np.random.choice(pop2, 20, replace=True)\n",
    "\n",
    "plt.hist(sample5, alpha=0.5, label='sample 5') \n",
    "plt.hist(sample6, alpha=0.5, label='sample 6') \n",
    "plt.legend(loc='upper right') \n",
    "plt.show()"
   ]
  },
  {
   "cell_type": "code",
   "execution_count": 16,
   "metadata": {},
   "outputs": [
    {
     "name": "stdout",
     "output_type": "stream",
     "text": [
      "2.25\n",
      "5.2\n",
      "1.21963109177\n",
      "1.53622914957\n"
     ]
    }
   ],
   "source": [
    "# Determining the means and standard deviations of the two samples plus the difference of the means\n",
    "\n",
    "print(sample5.mean())\n",
    "print(sample6.mean())\n",
    "print(sample5.std())\n",
    "print(sample6.std())"
   ]
  },
  {
   "cell_type": "code",
   "execution_count": 17,
   "metadata": {},
   "outputs": [
    {
     "name": "stdout",
     "output_type": "stream",
     "text": [
      "Ttest_indResult(statistic=6.5555555555555554, pvalue=1.2431960871035314e-07)\n"
     ]
    }
   ],
   "source": [
    "# Determining t-value and p-value using ttest_ind\n",
    "\n",
    "print(ttest_ind(sample6, sample5, equal_var=False))"
   ]
  },
  {
   "cell_type": "markdown",
   "metadata": {},
   "source": [
    "# All the values changed for each condition. But I see that the overlap remained between the two samples. "
   ]
  },
  {
   "cell_type": "markdown",
   "metadata": {},
   "source": [
    "# Pop3 and Pop4"
   ]
  },
  {
   "cell_type": "code",
   "execution_count": 18,
   "metadata": {
    "collapsed": true
   },
   "outputs": [],
   "source": [
    "# Creating a new population setting\n",
    "\n",
    "np.random.seed(10000)\n",
    "\n",
    "pop3 = np.random.binomial(10, 0.3, 10000)\n",
    "pop4 = np.random.binomial(10,0.5, 10000)"
   ]
  },
  {
   "cell_type": "code",
   "execution_count": 19,
   "metadata": {},
   "outputs": [
    {
     "data": {
      "image/png": "[encoded data removed]",
      "text/plain": [
       "<matplotlib.figure.Figure at 0x249da6de4e0>"
      ]
     },
     "metadata": {},
     "output_type": "display_data"
    }
   ],
   "source": [
    "plt.hist(pop3, alpha=0.5, label='Population 3') \n",
    "plt.hist(pop4, alpha=0.5, label='Population 4') \n",
    "plt.legend(loc='upper right') \n",
    "plt.show()"
   ]
  },
  {
   "cell_type": "code",
   "execution_count": 20,
   "metadata": {},
   "outputs": [
    {
     "data": {
      "image/png": "[encoded data removed]",
      "text/plain": [
       "<matplotlib.figure.Figure at 0x249dacfa7b8>"
      ]
     },
     "metadata": {},
     "output_type": "display_data"
    }
   ],
   "source": [
    "# First set of sampling, 100\n",
    "\n",
    "sample_a = np.random.choice(pop3, 100, replace=True)\n",
    "sample_b = np.random.choice(pop4, 100, replace=True)\n",
    "\n",
    "plt.hist(sample_a, alpha=0.5, label='sample a') \n",
    "plt.hist(sample_b, alpha=0.5, label='sample b') \n",
    "plt.legend(loc='upper right') \n",
    "plt.show()"
   ]
  },
  {
   "cell_type": "code",
   "execution_count": 21,
   "metadata": {},
   "outputs": [
    {
     "name": "stdout",
     "output_type": "stream",
     "text": [
      "2.97\n",
      "4.79\n",
      "1.59031443432\n",
      "1.38776799214\n"
     ]
    }
   ],
   "source": [
    "# Determining the means and standard deviations of the two samples plus the difference of the means\n",
    "\n",
    "print(sample_a.mean())\n",
    "print(sample_b.mean())\n",
    "print(sample_a.std())\n",
    "print(sample_b.std())"
   ]
  },
  {
   "cell_type": "code",
   "execution_count": 22,
   "metadata": {},
   "outputs": [
    {
     "name": "stdout",
     "output_type": "stream",
     "text": [
      "Ttest_indResult(statistic=8.5795622783967751, pvalue=2.9977219738142089e-15)\n"
     ]
    }
   ],
   "source": [
    "# Determining t-value and p-value using ttest_ind\n",
    "\n",
    "print(ttest_ind(sample_b, sample_a, equal_var=False))"
   ]
  },
  {
   "cell_type": "code",
   "execution_count": 24,
   "metadata": {},
   "outputs": [
    {
     "data": {
      "image/png": "[encoded data removed]",
      "text/plain": [
       "<matplotlib.figure.Figure at 0x249dacc4240>"
      ]
     },
     "metadata": {},
     "output_type": "display_data"
    }
   ],
   "source": [
    "# Second set of sampling, 1000\n",
    "\n",
    "sample_c = np.random.choice(pop3, 1000, replace=True)\n",
    "sample_d = np.random.choice(pop4, 1000, replace=True)\n",
    "\n",
    "plt.hist(sample_c, alpha=0.5, label='sample c') \n",
    "plt.hist(sample_d, alpha=0.5, label='sample d') \n",
    "plt.legend(loc='upper right') \n",
    "plt.show()"
   ]
  },
  {
   "cell_type": "code",
   "execution_count": 25,
   "metadata": {},
   "outputs": [
    {
     "name": "stdout",
     "output_type": "stream",
     "text": [
      "2.977\n",
      "4.962\n",
      "1.44584611906\n",
      "1.50018532189\n"
     ]
    }
   ],
   "source": [
    "# Determining the means and standard deviations of the two samples plus the difference of the means\n",
    "\n",
    "print(sample_c.mean())\n",
    "print(sample_d.mean())\n",
    "print(sample_c.std())\n",
    "print(sample_d.std())"
   ]
  },
  {
   "cell_type": "code",
   "execution_count": 26,
   "metadata": {},
   "outputs": [
    {
     "name": "stdout",
     "output_type": "stream",
     "text": [
      "Ttest_indResult(statistic=30.112513776196923, pvalue=1.541091671728826e-164)\n"
     ]
    }
   ],
   "source": [
    "# Determining t-value and p-value using ttest_ind\n",
    "\n",
    "print(ttest_ind(sample_d, sample_c, equal_var=False))"
   ]
  },
  {
   "cell_type": "code",
   "execution_count": 27,
   "metadata": {},
   "outputs": [
    {
     "data": {
      "image/png": "[encoded data removed]",
      "text/plain": [
       "<matplotlib.figure.Figure at 0x249da4f2860>"
      ]
     },
     "metadata": {},
     "output_type": "display_data"
    }
   ],
   "source": [
    "# Third set of sampling, 20\n",
    "\n",
    "sample_e = np.random.choice(pop3, 20, replace=True)\n",
    "sample_f = np.random.choice(pop4, 20, replace=True)\n",
    "\n",
    "plt.hist(sample_e, alpha=0.5, label='sample e') \n",
    "plt.hist(sample_f, alpha=0.5, label='sample f') \n",
    "plt.legend(loc='upper right') \n",
    "plt.show()"
   ]
  },
  {
   "cell_type": "code",
   "execution_count": 28,
   "metadata": {},
   "outputs": [
    {
     "name": "stdout",
     "output_type": "stream",
     "text": [
      "2.45\n",
      "5.45\n",
      "1.02347447452\n",
      "1.56444878472\n"
     ]
    }
   ],
   "source": [
    "# Determining the means and standard deviations of the two samples plus the difference of the means\n",
    "\n",
    "print(sample_e.mean())\n",
    "print(sample_f.mean())\n",
    "print(sample_e.std())\n",
    "print(sample_f.std())"
   ]
  },
  {
   "cell_type": "code",
   "execution_count": 29,
   "metadata": {},
   "outputs": [
    {
     "name": "stdout",
     "output_type": "stream",
     "text": [
      "Ttest_indResult(statistic=6.9947865318828315, pvalue=5.5659233579809167e-08)\n"
     ]
    }
   ],
   "source": [
    "# Determining t-value and p-value using ttest_ind\n",
    "\n",
    "print(ttest_ind(sample_f, sample_e, equal_var=False))"
   ]
  },
  {
   "cell_type": "markdown",
   "metadata": {},
   "source": [
    "# Pop5 and Pop6"
   ]
  },
  {
   "cell_type": "code",
   "execution_count": 30,
   "metadata": {
    "collapsed": true
   },
   "outputs": [],
   "source": [
    "# Creating a new population setting\n",
    "\n",
    "np.random.seed(313131)\n",
    "\n",
    "pop5 = np.random.binomial(10, 0.4, 10000)\n",
    "pop6 = np.random.binomial(10,0.5, 10000)"
   ]
  },
  {
   "cell_type": "code",
   "execution_count": 31,
   "metadata": {},
   "outputs": [
    {
     "data": {
      "image/png": "[encoded data removed]",
      "text/plain": [
       "<matplotlib.figure.Figure at 0x249dab97dd8>"
      ]
     },
     "metadata": {},
     "output_type": "display_data"
    }
   ],
   "source": [
    "plt.hist(pop5, alpha=0.5, label='Population 5') \n",
    "plt.hist(pop6, alpha=0.5, label='Population 6') \n",
    "plt.legend(loc='upper right') \n",
    "plt.show()"
   ]
  },
  {
   "cell_type": "code",
   "execution_count": 32,
   "metadata": {},
   "outputs": [
    {
     "data": {
      "image/png": "[encoded data removed]",
      "text/plain": [
       "<matplotlib.figure.Figure at 0x249dad0dcc0>"
      ]
     },
     "metadata": {},
     "output_type": "display_data"
    }
   ],
   "source": [
    "# First set of sampling, 100\n",
    "\n",
    "sample_u = np.random.choice(pop5, 100, replace=True)\n",
    "sample_v = np.random.choice(pop6, 100, replace=True)\n",
    "\n",
    "plt.hist(sample_u, alpha=0.5, label='sample u') \n",
    "plt.hist(sample_v, alpha=0.5, label='sample v') \n",
    "plt.legend(loc='upper right') \n",
    "plt.show()"
   ]
  },
  {
   "cell_type": "code",
   "execution_count": 33,
   "metadata": {},
   "outputs": [
    {
     "name": "stdout",
     "output_type": "stream",
     "text": [
      "3.85\n",
      "4.84\n",
      "1.5321553446\n",
      "1.56025638919\n"
     ]
    }
   ],
   "source": [
    "# Determining the means and standard deviations of the two samples plus the difference of the means\n",
    "\n",
    "print(sample_u.mean())\n",
    "print(sample_v.mean())\n",
    "print(sample_u.std())\n",
    "print(sample_v.std())"
   ]
  },
  {
   "cell_type": "code",
   "execution_count": 34,
   "metadata": {},
   "outputs": [
    {
     "name": "stdout",
     "output_type": "stream",
     "text": [
      "Ttest_indResult(statistic=4.5045617732081817, pvalue=1.1355226648134753e-05)\n"
     ]
    }
   ],
   "source": [
    "# Determining t-value and p-value using ttest_ind\n",
    "\n",
    "print(ttest_ind(sample_v, sample_u, equal_var=False))"
   ]
  },
  {
   "cell_type": "code",
   "execution_count": 35,
   "metadata": {},
   "outputs": [
    {
     "data": {
      "image/png": "[encoded data removed]",
      "text/plain": [
       "<matplotlib.figure.Figure at 0x249dad21978>"
      ]
     },
     "metadata": {},
     "output_type": "display_data"
    }
   ],
   "source": [
    "# Second set of sampling, 1000\n",
    "\n",
    "sample_w = np.random.choice(pop5, 1000, replace=True)\n",
    "sample_x = np.random.choice(pop6, 1000, replace=True)\n",
    "\n",
    "plt.hist(sample_w, alpha=0.5, label='sample w') \n",
    "plt.hist(sample_x, alpha=0.5, label='sample x') \n",
    "plt.legend(loc='upper right') \n",
    "plt.show()"
   ]
  },
  {
   "cell_type": "code",
   "execution_count": 36,
   "metadata": {},
   "outputs": [
    {
     "name": "stdout",
     "output_type": "stream",
     "text": [
      "4.025\n",
      "4.962\n",
      "1.49277426291\n",
      "1.60079855072\n"
     ]
    }
   ],
   "source": [
    "# Determining the means and standard deviations of the two samples plus the difference of the means\n",
    "\n",
    "print(sample_w.mean())\n",
    "print(sample_x.mean())\n",
    "print(sample_w.std())\n",
    "print(sample_x.std())"
   ]
  },
  {
   "cell_type": "code",
   "execution_count": 37,
   "metadata": {},
   "outputs": [
    {
     "name": "stdout",
     "output_type": "stream",
     "text": [
      "Ttest_indResult(statistic=13.530454243564963, pvalue=5.7353223848230095e-40)\n"
     ]
    }
   ],
   "source": [
    "# Determining t-value and p-value using ttest_ind\n",
    "\n",
    "print(ttest_ind(sample_x, sample_w, equal_var=False))"
   ]
  },
  {
   "cell_type": "code",
   "execution_count": 38,
   "metadata": {},
   "outputs": [
    {
     "data": {
      "image/png": "[encoded data removed]",
      "text/plain": [
       "<matplotlib.figure.Figure at 0x249dae25780>"
      ]
     },
     "metadata": {},
     "output_type": "display_data"
    }
   ],
   "source": [
    "# Third set of sampling, 20\n",
    "\n",
    "sample_y = np.random.choice(pop5, 20, replace=True)\n",
    "sample_z = np.random.choice(pop6, 20, replace=True)\n",
    "\n",
    "plt.hist(sample_y, alpha=0.5, label='sample y') \n",
    "plt.hist(sample_z, alpha=0.5, label='sample z') \n",
    "plt.legend(loc='upper right') \n",
    "plt.show()"
   ]
  },
  {
   "cell_type": "code",
   "execution_count": 39,
   "metadata": {},
   "outputs": [
    {
     "name": "stdout",
     "output_type": "stream",
     "text": [
      "4.75\n",
      "4.85\n",
      "1.33697419571\n",
      "1.27573508222\n"
     ]
    }
   ],
   "source": [
    "# Determining the means and standard deviations of the two samples plus the difference of the means\n",
    "\n",
    "print(sample_y.mean())\n",
    "print(sample_z.mean())\n",
    "print(sample_y.std())\n",
    "print(sample_z.std())"
   ]
  },
  {
   "cell_type": "code",
   "execution_count": 40,
   "metadata": {},
   "outputs": [
    {
     "name": "stdout",
     "output_type": "stream",
     "text": [
      "Ttest_indResult(statistic=0.23587474652207202, pvalue=0.81479934005360077)\n"
     ]
    }
   ],
   "source": [
    "# Determining t-value and p-value using ttest_ind\n",
    "\n",
    "print(ttest_ind(sample_z, sample_y, equal_var=False))"
   ]
  },
  {
   "cell_type": "markdown",
   "metadata": {},
   "source": [
    "# All the means, std devs, t-values, and p-values have changed as changes in the random distribution variables are made. What I notice though was that if I increase the sampling, p-value gets smaller. This means that increasing the sampling size facilitates the reduction of differences attributed to noise in the data. "
   ]
  },
  {
   "cell_type": "markdown",
   "metadata": {},
   "source": [
    "# Pop7 and Pop8 Using a Different Random Distribution (Logistic)"
   ]
  },
  {
   "cell_type": "code",
   "execution_count": 41,
   "metadata": {
    "collapsed": true
   },
   "outputs": [],
   "source": [
    "# Creating a new population setting with logistic distribution\n",
    "\n",
    "np.random.seed(7777)\n",
    "\n",
    "pop7 = np.random.logistic(10,1,10000)\n",
    "pop8 = np.random.logistic(10,2,10000)"
   ]
  },
  {
   "cell_type": "code",
   "execution_count": 42,
   "metadata": {},
   "outputs": [
    {
     "data": {
      "image/png": "[encoded data removed]",
      "text/plain": [
       "<matplotlib.figure.Figure at 0x249dae2de10>"
      ]
     },
     "metadata": {},
     "output_type": "display_data"
    }
   ],
   "source": [
    "plt.hist(pop7, alpha=0.5, label='Population 7') \n",
    "plt.hist(pop8, alpha=0.5, label='Population 8') \n",
    "plt.legend(loc='upper right') \n",
    "plt.show()"
   ]
  },
  {
   "cell_type": "code",
   "execution_count": 43,
   "metadata": {},
   "outputs": [
    {
     "data": {
      "image/png": "[encoded data removed]",
      "text/plain": [
       "<matplotlib.figure.Figure at 0x249dac92c50>"
      ]
     },
     "metadata": {},
     "output_type": "display_data"
    }
   ],
   "source": [
    "# First set of sampling, 100\n",
    "\n",
    "sample_100 = np.random.choice(pop7, 100, replace=True)\n",
    "sample_101 = np.random.choice(pop8, 100, replace=True)\n",
    "\n",
    "plt.hist(sample_100, alpha=0.5, label='sample 100') \n",
    "plt.hist(sample_101, alpha=0.5, label='sample 101') \n",
    "plt.legend(loc='upper right')\n",
    "plt.show()"
   ]
  },
  {
   "cell_type": "code",
   "execution_count": 44,
   "metadata": {},
   "outputs": [
    {
     "name": "stdout",
     "output_type": "stream",
     "text": [
      "9.84589095064\n",
      "9.76456449982\n",
      "1.82766489859\n",
      "3.84478794736\n"
     ]
    }
   ],
   "source": [
    "# Determining the means and standard deviations of the two samples plus the difference of the means\n",
    "\n",
    "print(sample_100.mean())\n",
    "print(sample_101.mean())\n",
    "print(sample_100.std())\n",
    "print(sample_101.std())"
   ]
  },
  {
   "cell_type": "code",
   "execution_count": 45,
   "metadata": {},
   "outputs": [
    {
     "name": "stdout",
     "output_type": "stream",
     "text": [
      "Ttest_indResult(statistic=-0.19008039558780696, pvalue=0.84951841697526409)\n"
     ]
    }
   ],
   "source": [
    "# Determining t-value and p-value using ttest_ind\n",
    "\n",
    "print(ttest_ind(sample_101, sample_100, equal_var=False))"
   ]
  },
  {
   "cell_type": "code",
   "execution_count": 46,
   "metadata": {},
   "outputs": [
    {
     "data": {
      "image/png": "[encoded data removed]",
      "text/plain": [
       "<matplotlib.figure.Figure at 0x249dafd54e0>"
      ]
     },
     "metadata": {},
     "output_type": "display_data"
    }
   ],
   "source": [
    "# Second set of sampling, 1000\n",
    "\n",
    "sample_102 = np.random.choice(pop7, 1000, replace=True)\n",
    "sample_103 = np.random.choice(pop8, 1000, replace=True)\n",
    "\n",
    "plt.hist(sample_102, alpha=0.5, label='sample 102') \n",
    "plt.hist(sample_103, alpha=0.5, label='sample 103') \n",
    "plt.legend(loc='upper right')\n",
    "plt.show()"
   ]
  },
  {
   "cell_type": "code",
   "execution_count": 47,
   "metadata": {},
   "outputs": [
    {
     "name": "stdout",
     "output_type": "stream",
     "text": [
      "10.028653282\n",
      "10.1891619106\n",
      "1.72508704726\n",
      "3.62620585363\n"
     ]
    }
   ],
   "source": [
    "# Determining the means and standard deviations of the two samples plus the difference of the means\n",
    "\n",
    "print(sample_102.mean())\n",
    "print(sample_103.mean())\n",
    "print(sample_102.std())\n",
    "print(sample_103.std())"
   ]
  },
  {
   "cell_type": "code",
   "execution_count": 48,
   "metadata": {},
   "outputs": [
    {
     "name": "stdout",
     "output_type": "stream",
     "text": [
      "Ttest_indResult(statistic=1.2633605302475213, pvalue=0.20666569662334172)\n"
     ]
    }
   ],
   "source": [
    "# Determining t-value and p-value using ttest_ind\n",
    "\n",
    "print(ttest_ind(sample_103, sample_102, equal_var=False))"
   ]
  },
  {
   "cell_type": "code",
   "execution_count": 49,
   "metadata": {},
   "outputs": [
    {
     "data": {
      "image/png": "[encoded data removed]",
      "text/plain": [
       "<matplotlib.figure.Figure at 0x249da73ac50>"
      ]
     },
     "metadata": {},
     "output_type": "display_data"
    }
   ],
   "source": [
    "# Third set of sampling, 20\n",
    "\n",
    "sample_104 = np.random.choice(pop7, 20, replace=True)\n",
    "sample_105 = np.random.choice(pop8, 20, replace=True)\n",
    "\n",
    "plt.hist(sample_104, alpha=0.5, label='sample 104') \n",
    "plt.hist(sample_105, alpha=0.5, label='sample 105') \n",
    "plt.legend(loc='upper right')\n",
    "plt.show()"
   ]
  },
  {
   "cell_type": "code",
   "execution_count": 50,
   "metadata": {},
   "outputs": [
    {
     "name": "stdout",
     "output_type": "stream",
     "text": [
      "10.1079082864\n",
      "9.15033302737\n",
      "1.40564311448\n",
      "3.2213767818\n"
     ]
    }
   ],
   "source": [
    "# Determining the means and standard deviations of the two samples plus the difference of the means\n",
    "\n",
    "print(sample_104.mean())\n",
    "print(sample_105.mean())\n",
    "print(sample_104.std())\n",
    "print(sample_105.std())"
   ]
  },
  {
   "cell_type": "code",
   "execution_count": 51,
   "metadata": {},
   "outputs": [
    {
     "name": "stdout",
     "output_type": "stream",
     "text": [
      "Ttest_indResult(statistic=1.2633605302475213, pvalue=0.20666569662334172)\n"
     ]
    }
   ],
   "source": [
    "# Determining t-value and p-value using ttest_ind\n",
    "\n",
    "print(ttest_ind(sample_103, sample_102, equal_var=False))"
   ]
  },
  {
   "cell_type": "markdown",
   "metadata": {},
   "source": [
    "# With a logistic random distribution, the p-values were larger than those from the normal random distribution. But because these two random distributions are different, comparing them apples to apples may be less suitable. But within the logistic distribution population, in the sampling range covered, the p-values still decreased with increased in sampling size. With increasing sample size, the histogram was also approaching closer to perfect normality. "
   ]
  }
 ],
 "metadata": {
  "kernelspec": {
   "display_name": "Python 3",
   "language": "python",
   "name": "python3"
  },
  "language_info": {
   "codemirror_mode": {
    "name": "ipython",
    "version": 3
   },
   "file_extension": ".py",
   "mimetype": "text/x-python",
   "name": "python",
   "nbconvert_exporter": "python",
   "pygments_lexer": "ipython3",
   "version": "3.6.3"
  }
 },
 "nbformat": 4,
 "nbformat_minor": 2
}
